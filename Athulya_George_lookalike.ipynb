{
  "nbformat": 4,
  "nbformat_minor": 0,
  "metadata": {
    "colab": {
      "provenance": []
    },
    "kernelspec": {
      "name": "python3",
      "display_name": "Python 3"
    },
    "language_info": {
      "name": "python"
    }
  },
  "cells": [
    {
      "cell_type": "code",
      "source": [
        "import pandas as pd\n",
        "\n",
        "# Load datasets\n",
        "customers = pd.read_csv(\"/content/drive/MyDrive/datasets/Customers (1).csv\")\n",
        "products = pd.read_csv(\"/content/drive/MyDrive/datasets/Products.csv\")\n",
        "transactions = pd.read_csv(\"/content/drive/MyDrive/datasets/Transactions.csv\")"
      ],
      "metadata": {
        "id": "vQkS_8BWIRmL"
      },
      "execution_count": null,
      "outputs": []
    },
    {
      "cell_type": "code",
      "execution_count": null,
      "metadata": {
        "colab": {
          "base_uri": "https://localhost:8080/"
        },
        "id": "0CWmuQwoHrIt",
        "outputId": "5e938f73-e5bd-4d22-873c-599dd00e22c3"
      },
      "outputs": [
        {
          "output_type": "stream",
          "name": "stdout",
          "text": [
            "  CustomerID  TotalValue  ProductID     Category\n",
            "0      C0001     3354.52          5  Electronics\n",
            "1      C0002     1862.74          4     Clothing\n",
            "2      C0003     2725.38          4   Home Decor\n",
            "3      C0004     5354.88          8        Books\n",
            "4      C0005     2034.24          3  Electronics\n"
          ]
        }
      ],
      "source": [
        "# Merge datasets\n",
        "merged = pd.merge(transactions, customers, on=\"CustomerID\")\n",
        "merged = pd.merge(merged, products, on=\"ProductID\")\n",
        "\n",
        "# Create customer-level aggregates\n",
        "customer_features = merged.groupby('CustomerID').agg({\n",
        "    'TotalValue': 'sum',  # Total revenue generated\n",
        "    'ProductID': 'count',  # Number of products purchased\n",
        "    'Category': lambda x: x.mode()[0],  # Most purchased category\n",
        "}).reset_index()\n",
        "\n",
        "print(customer_features.head())\n"
      ]
    },
    {
      "cell_type": "code",
      "source": [
        "from sklearn.metrics.pairwise import cosine_similarity\n",
        "from sklearn.preprocessing import MinMaxScaler\n",
        "\n",
        "# Normalize the numerical features\n",
        "scaler = MinMaxScaler()\n",
        "customer_features_scaled = scaler.fit_transform(customer_features[['TotalValue', 'ProductID']])\n",
        "\n",
        "# Compute similarity matrix\n",
        "similarity_matrix = cosine_similarity(customer_features_scaled)\n",
        "\n",
        "# Find top 3 similar customers for each customer\n",
        "similar_customers = {}\n",
        "for i, customer_id in enumerate(customer_features['CustomerID']):\n",
        "    similar_indices = similarity_matrix[i].argsort()[::-1][1:4]  # Top 3 excluding self\n",
        "    similar_customers[customer_id] = [(customer_features['CustomerID'][j], similarity_matrix[i][j]) for j in similar_indices]\n",
        "\n",
        "# Save results to Lookalike.csv\n",
        "import csv\n",
        "with open(\"Lookalike.csv\", \"w\", newline=\"\") as file:\n",
        "    writer = csv.writer(file)\n",
        "    writer.writerow([\"CustomerID\", \"LookalikeCustomers\"])\n",
        "    for customer_id, lookalikes in similar_customers.items():\n",
        "        writer.writerow([customer_id, lookalikes])\n"
      ],
      "metadata": {
        "id": "w6o8iieVIJsZ"
      },
      "execution_count": null,
      "outputs": []
    },
    {
      "cell_type": "code",
      "source": [],
      "metadata": {
        "id": "Nkz1R_dYIqyU"
      },
      "execution_count": null,
      "outputs": []
    }
  ]
}